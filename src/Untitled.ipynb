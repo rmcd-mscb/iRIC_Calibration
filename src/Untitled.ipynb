{
 "cells": [
  {
   "cell_type": "code",
   "execution_count": 1,
   "metadata": {},
   "outputs": [],
   "source": [
    "%matplotlib qt5\n",
    "\n",
    "from fmcal import fm_cal\n",
    "import scipy.stats as stats\n",
    "import matplotlib.pyplot as plt\n",
    "import numpy as np\n",
    "import time"
   ]
  },
  {
   "cell_type": "code",
   "execution_count": 2,
   "metadata": {},
   "outputs": [],
   "source": [
    "# cal = fm_cal('../test/test_constcd_config.ini')\n",
    "cal = fm_cal('')\n",
    "cal.create_ini_file2('tmp.ini')"
   ]
  },
  {
   "cell_type": "code",
   "execution_count": null,
   "metadata": {},
   "outputs": [],
   "source": [
    "cal = fm_cal('../test/test_constcd_config.ini')\n",
    "cal.initialize()\n",
    "\n",
    "fig = plt.figure()\n",
    "ax = fig.add_subplot(111)\n",
    "plt.ion()\n",
    "\n",
    "fig.show()\n",
    "fig.canvas.draw()\n",
    "for cdind, cd in enumerate(np.arange(cal.cdmin, cal.cdmax, cal.cdinc)):\n",
    "    simres = cal.update_const(cdind, cd)\n",
    "    \n",
    "    ax.plot(simres[:cdind,0], simres[:cdind,1], '-o')  # fit the line\n",
    "    plt.pause(1)\n",
    "    plt.draw()\n",
    "#     fig.canvas.draw()   # draw\n",
    "#     time.sleep(0.5)    #sleep\n",
    "    \n",
    "tmp = 0"
   ]
  },
  {
   "cell_type": "code",
   "execution_count": null,
   "metadata": {},
   "outputs": [],
   "source": [
    "cal = fm_cal('../test/test_varcd_config.ini')\n",
    "cal.initialize()\n",
    "\n",
    "fig = plt.figure()\n",
    "ax = fig.add_subplot(111)\n",
    "plt.ion()\n",
    "\n",
    "fig.show()\n",
    "fig.canvas.draw()\n",
    "x = np.arange(cal.cd0min, cal.cd0max, cal.cd0inc)\n",
    "y = np.arange(cal.cd1min, cal.cd1max, cal.cd1inc)\n",
    "X,Y = np.meshgrid(x,y)\n",
    "for cdind0, cd0 in enumerate(np.arange(cal.cd0min, cal.cd0max, cal.cd0inc)):\n",
    "    for cdind1, cd1 in enumerate(np.arange(cal.cd1min, cal.cd1max, cal.cd1inc)):\n",
    "        simres = cal.update_var(cdind0, cd0, cdind1, cd1)\n",
    "        ax.contourf(X, Y, simres, 10, cmap=plt.cm.bone)\n",
    "#     ax.plot(simres[:cdind,0], simres[:cdind,1], '-o')  # fit the line\n",
    "        plt.pause(1)\n",
    "        plt.draw()\n",
    "#     fig.canvas.draw()   # draw\n",
    "#     time.sleep(0.5)    #sleep\n",
    "    \n",
    "tmp = 0"
   ]
  },
  {
   "cell_type": "code",
   "execution_count": null,
   "metadata": {},
   "outputs": [],
   "source": []
  }
 ],
 "metadata": {
  "kernelspec": {
   "display_name": "Python 3",
   "language": "python",
   "name": "python3"
  },
  "language_info": {
   "codemirror_mode": {
    "name": "ipython",
    "version": 3
   },
   "file_extension": ".py",
   "mimetype": "text/x-python",
   "name": "python",
   "nbconvert_exporter": "python",
   "pygments_lexer": "ipython3",
   "version": "3.6.6"
  }
 },
 "nbformat": 4,
 "nbformat_minor": 2
}
